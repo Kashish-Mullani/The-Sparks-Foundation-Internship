{
 "cells": [
  {
   "cell_type": "markdown",
   "id": "f39c656c",
   "metadata": {},
   "source": [
    "# Data Science and Bussiness Analytics Intern- The Sparks Foundation"
   ]
  },
  {
   "cell_type": "markdown",
   "id": "6d69f193",
   "metadata": {},
   "source": [
    "**BATCH  - JANUARY 2022 #GRIPJANUARY2022**\n",
    "\n",
    "**AUTHOR - KASHISH SAMEER MULLANI**\n",
    "\n",
    "**TASK   - PREDICTION USING SUPERVISED MACHINE LEARNING** "
   ]
  },
  {
   "cell_type": "markdown",
   "id": "5a3f3d86",
   "metadata": {},
   "source": [
    "In this task we will use regression analysis to predict percentage of students on the basis of number of hours they study.\n",
    "We will make use of Sci-kit library for this analysis."
   ]
  },
  {
   "cell_type": "markdown",
   "id": "f96b7991",
   "metadata": {},
   "source": [
    "**IMPORTING LIBRARIES AND DATA**"
   ]
  },
  {
   "cell_type": "code",
   "execution_count": 1,
   "id": "dfd1659f",
   "metadata": {},
   "outputs": [],
   "source": [
    "#importing all the required libraries\n",
    "import numpy as np\n",
    "import pandas as pd\n",
    "import matplotlib.pyplot as plt\n",
    "\n",
    "from sklearn.linear_model import LinearRegression\n",
    "from sklearn.model_selection import train_test_split\n",
    "\n",
    "from sklearn.metrics import r2_score\n",
    "from sklearn import metrics\n"
   ]
  },
  {
   "cell_type": "code",
   "execution_count": 2,
   "id": "d837fae2",
   "metadata": {},
   "outputs": [
    {
     "data": {
      "text/html": [
       "<div>\n",
       "<style scoped>\n",
       "    .dataframe tbody tr th:only-of-type {\n",
       "        vertical-align: middle;\n",
       "    }\n",
       "\n",
       "    .dataframe tbody tr th {\n",
       "        vertical-align: top;\n",
       "    }\n",
       "\n",
       "    .dataframe thead th {\n",
       "        text-align: right;\n",
       "    }\n",
       "</style>\n",
       "<table border=\"1\" class=\"dataframe\">\n",
       "  <thead>\n",
       "    <tr style=\"text-align: right;\">\n",
       "      <th></th>\n",
       "      <th>Hours</th>\n",
       "      <th>Scores</th>\n",
       "    </tr>\n",
       "  </thead>\n",
       "  <tbody>\n",
       "    <tr>\n",
       "      <th>0</th>\n",
       "      <td>2.5</td>\n",
       "      <td>21</td>\n",
       "    </tr>\n",
       "    <tr>\n",
       "      <th>1</th>\n",
       "      <td>5.1</td>\n",
       "      <td>47</td>\n",
       "    </tr>\n",
       "    <tr>\n",
       "      <th>2</th>\n",
       "      <td>3.2</td>\n",
       "      <td>27</td>\n",
       "    </tr>\n",
       "    <tr>\n",
       "      <th>3</th>\n",
       "      <td>8.5</td>\n",
       "      <td>75</td>\n",
       "    </tr>\n",
       "    <tr>\n",
       "      <th>4</th>\n",
       "      <td>3.5</td>\n",
       "      <td>30</td>\n",
       "    </tr>\n",
       "  </tbody>\n",
       "</table>\n",
       "</div>"
      ],
      "text/plain": [
       "   Hours  Scores\n",
       "0    2.5      21\n",
       "1    5.1      47\n",
       "2    3.2      27\n",
       "3    8.5      75\n",
       "4    3.5      30"
      ]
     },
     "execution_count": 2,
     "metadata": {},
     "output_type": "execute_result"
    }
   ],
   "source": [
    "#Importing the data set\n",
    "url= \"http://bit.ly/w-data\"\n",
    "data=pd.read_csv(url)\n",
    "data.head()"
   ]
  },
  {
   "cell_type": "markdown",
   "id": "267d3828",
   "metadata": {},
   "source": [
    "**DATA PREPROCESSING**"
   ]
  },
  {
   "cell_type": "code",
   "execution_count": 3,
   "id": "41a71677",
   "metadata": {},
   "outputs": [
    {
     "name": "stdout",
     "output_type": "stream",
     "text": [
      "    Hours  Scores\n",
      "0     2.5      21\n",
      "1     5.1      47\n",
      "2     3.2      27\n",
      "3     8.5      75\n",
      "4     3.5      30\n",
      "5     1.5      20\n",
      "6     9.2      88\n",
      "7     5.5      60\n",
      "8     8.3      81\n",
      "9     2.7      25\n",
      "10    7.7      85\n",
      "11    5.9      62\n",
      "12    4.5      41\n",
      "13    3.3      42\n",
      "14    1.1      17\n",
      "15    8.9      95\n",
      "16    2.5      30\n",
      "17    1.9      24\n",
      "18    6.1      67\n",
      "19    7.4      69\n",
      "20    2.7      30\n",
      "21    4.8      54\n",
      "22    3.8      35\n",
      "23    6.9      76\n",
      "24    7.8      86\n",
      "Dimensions:\n",
      "(25, 2)\n"
     ]
    }
   ],
   "source": [
    "#checking number of rows and columns in data\n",
    "print(data)\n",
    "\n",
    "print(\"Dimensions:\")\n",
    "print(data.shape)"
   ]
  },
  {
   "cell_type": "code",
   "execution_count": 4,
   "id": "c9c2f279",
   "metadata": {},
   "outputs": [
    {
     "name": "stdout",
     "output_type": "stream",
     "text": [
      "Statistical Summary:\n",
      "           Hours     Scores\n",
      "count  25.000000  25.000000\n",
      "mean    5.012000  51.480000\n",
      "std     2.525094  25.286887\n",
      "min     1.100000  17.000000\n",
      "25%     2.700000  30.000000\n",
      "50%     4.800000  47.000000\n",
      "75%     7.400000  75.000000\n",
      "max     9.200000  95.000000\n"
     ]
    }
   ],
   "source": [
    "#using dataframe.describe to get statistical summary of the data\n",
    "print(\"Statistical Summary:\")\n",
    "print(data.describe())"
   ]
  },
  {
   "cell_type": "code",
   "execution_count": 5,
   "id": "eeb06c5c",
   "metadata": {},
   "outputs": [
    {
     "data": {
      "text/plain": [
       "False"
      ]
     },
     "execution_count": 5,
     "metadata": {},
     "output_type": "execute_result"
    }
   ],
   "source": [
    "# checking missing values\n",
    "data.isnull().values.any()"
   ]
  },
  {
   "cell_type": "markdown",
   "id": "2b3589e6",
   "metadata": {},
   "source": [
    "As the output is 'False' means there are no missing values in data."
   ]
  },
  {
   "cell_type": "markdown",
   "id": "7ae79071",
   "metadata": {},
   "source": [
    "**EXPLORATARY DATA ANALYSIS**"
   ]
  },
  {
   "cell_type": "code",
   "execution_count": 6,
   "id": "c436e724",
   "metadata": {},
   "outputs": [
    {
     "data": {
      "image/png": "[encoded data removed]",
      "text/plain": [
       "<Figure size 432x288 with 1 Axes>"
      ]
     },
     "metadata": {
      "needs_background": "light"
     },
     "output_type": "display_data"
    }
   ],
   "source": [
    "#plotting scatter plot\n",
    "\n",
    "colors=\"Red\"\n",
    "data.plot(x='Hours', y='Scores', style='o', c= colors) \n",
    "plt.title('Scatter Plot')  \n",
    "plt.xlabel('No. of Hours Studied') \n",
    "plt.ylabel('Percentage Score')  \n",
    "plt.grid(True)\n",
    "plt.show()"
   ]
  },
  {
   "cell_type": "markdown",
   "id": "b9e5ff39",
   "metadata": {},
   "source": [
    "As we can see in above graph, as the no of hours of study increses the scores also increases. \n",
    "This shows there is **positive correlation between No. of hours of study and Percentage** obtained by students."
   ]
  },
  {
   "cell_type": "code",
   "execution_count": 7,
   "id": "0b3ede6d",
   "metadata": {},
   "outputs": [
    {
     "data": {
      "text/html": [
       "<div>\n",
       "<style scoped>\n",
       "    .dataframe tbody tr th:only-of-type {\n",
       "        vertical-align: middle;\n",
       "    }\n",
       "\n",
       "    .dataframe tbody tr th {\n",
       "        vertical-align: top;\n",
       "    }\n",
       "\n",
       "    .dataframe thead th {\n",
       "        text-align: right;\n",
       "    }\n",
       "</style>\n",
       "<table border=\"1\" class=\"dataframe\">\n",
       "  <thead>\n",
       "    <tr style=\"text-align: right;\">\n",
       "      <th></th>\n",
       "      <th>Hours</th>\n",
       "      <th>Scores</th>\n",
       "    </tr>\n",
       "  </thead>\n",
       "  <tbody>\n",
       "    <tr>\n",
       "      <th>Hours</th>\n",
       "      <td>1.000000</td>\n",
       "      <td>0.976191</td>\n",
       "    </tr>\n",
       "    <tr>\n",
       "      <th>Scores</th>\n",
       "      <td>0.976191</td>\n",
       "      <td>1.000000</td>\n",
       "    </tr>\n",
       "  </tbody>\n",
       "</table>\n",
       "</div>"
      ],
      "text/plain": [
       "           Hours    Scores\n",
       "Hours   1.000000  0.976191\n",
       "Scores  0.976191  1.000000"
      ]
     },
     "execution_count": 7,
     "metadata": {},
     "output_type": "execute_result"
    }
   ],
   "source": [
    "#Correlation in two attributes hours and percentage\n",
    "data.corr()"
   ]
  },
  {
   "cell_type": "markdown",
   "id": "7865fe76",
   "metadata": {},
   "source": [
    "**Correlation between no of hours of study and percentage obtained is 0.976191 which is good.**"
   ]
  },
  {
   "cell_type": "markdown",
   "id": "186e4fda",
   "metadata": {},
   "source": [
    "**PREPARING DATA**"
   ]
  },
  {
   "cell_type": "markdown",
   "id": "07a14eb0",
   "metadata": {},
   "source": [
    "Dividing the data into input and output variable. Here **input is no. of hours of study(dependent variable) and \n",
    "output will be percentage obtained by student(independent variable)**"
   ]
  },
  {
   "cell_type": "code",
   "execution_count": 8,
   "id": "e55cd4e7",
   "metadata": {},
   "outputs": [
    {
     "name": "stdout",
     "output_type": "stream",
     "text": [
      "(Student)(x) \n",
      "\n",
      "0     2.5\n",
      "1     5.1\n",
      "2     3.2\n",
      "3     8.5\n",
      "4     3.5\n",
      "5     1.5\n",
      "6     9.2\n",
      "7     5.5\n",
      "8     8.3\n",
      "9     2.7\n",
      "10    7.7\n",
      "11    5.9\n",
      "12    4.5\n",
      "13    3.3\n",
      "14    1.1\n",
      "15    8.9\n",
      "16    2.5\n",
      "17    1.9\n",
      "18    6.1\n",
      "19    7.4\n",
      "20    2.7\n",
      "21    4.8\n",
      "22    3.8\n",
      "23    6.9\n",
      "24    7.8\n",
      "Name: Hours, dtype: float64\n",
      "(Student)(y) \n",
      "\n",
      "0     21\n",
      "1     47\n",
      "2     27\n",
      "3     75\n",
      "4     30\n",
      "5     20\n",
      "6     88\n",
      "7     60\n",
      "8     81\n",
      "9     25\n",
      "10    85\n",
      "11    62\n",
      "12    41\n",
      "13    42\n",
      "14    17\n",
      "15    95\n",
      "16    30\n",
      "17    24\n",
      "18    67\n",
      "19    69\n",
      "20    30\n",
      "21    54\n",
      "22    35\n",
      "23    76\n",
      "24    86\n",
      "Name: Scores, dtype: int64\n"
     ]
    }
   ],
   "source": [
    "#dividing data\n",
    "x=data[\"Hours\"]\n",
    "y=data[\"Scores\"]\n",
    "print(\"(Student)(x) \\n\")\n",
    "print(x)\n",
    "print(\"(Student)(y) \\n\")\n",
    "print(y)"
   ]
  },
  {
   "cell_type": "markdown",
   "id": "44a5307a",
   "metadata": {},
   "source": [
    "**SPLITTING OF DATA**"
   ]
  },
  {
   "cell_type": "markdown",
   "id": "177dd102",
   "metadata": {},
   "source": [
    "We will split our data into **Training and Testing sets**"
   ]
  },
  {
   "cell_type": "code",
   "execution_count": 9,
   "id": "90881385",
   "metadata": {},
   "outputs": [],
   "source": [
    "#dividing data into training(80%) and testing(20%) sets using train_test_split() method\n",
    "X = data.iloc[:, :-1].values  \n",
    "Y = data.iloc[:, 1].values\n",
    "\n",
    "X_train, X_test, Y_train, Y_test = train_test_split(X, Y, test_size=0.2, random_state=0) \n",
    "#test size=0.2 means 20% of data is used for testing purpose\n"
   ]
  },
  {
   "cell_type": "markdown",
   "id": "13176382",
   "metadata": {},
   "source": [
    "**TRAINING THE ALGORITHM**\n",
    "\n",
    "We have split our data into training and testing sets, and now is finally the time to train our algorithm."
   ]
  },
  {
   "cell_type": "code",
   "execution_count": 10,
   "id": "b40bd072",
   "metadata": {},
   "outputs": [
    {
     "name": "stdout",
     "output_type": "stream",
     "text": [
      "Intercept : 2.018160041434683\n",
      "Coefficient of X: [9.91065648]\n"
     ]
    }
   ],
   "source": [
    "lm=LinearRegression()\n",
    "Regression_model=lm.fit(X_train,Y_train)\n",
    "\n",
    "#printing values of intercept and coefficient of independent variable\n",
    "print(\"Intercept :\",Regression_model.intercept_)\n",
    "print(\"Coefficient of X:\",Regression_model.coef_)"
   ]
  },
  {
   "cell_type": "markdown",
   "id": "f184e1ed",
   "metadata": {},
   "source": [
    "Training is complete"
   ]
  },
  {
   "cell_type": "code",
   "execution_count": 11,
   "id": "ec0e689f",
   "metadata": {},
   "outputs": [
    {
     "name": "stdout",
     "output_type": "stream",
     "text": [
      "Data is trained\n"
     ]
    }
   ],
   "source": [
    "LR=LinearRegression()\n",
    "LR.fit(X_train,Y_train)\n",
    "print(\"Data is trained\")"
   ]
  },
  {
   "cell_type": "markdown",
   "id": "f80e5eab",
   "metadata": {},
   "source": [
    "**PLOTTING REGRESSION LINE**"
   ]
  },
  {
   "cell_type": "code",
   "execution_count": 12,
   "id": "dbd967a7",
   "metadata": {},
   "outputs": [],
   "source": [
    "# regression line\n",
    "Regression_line=Regression_model.coef_*x+Regression_model.intercept_\n",
    "\n",
    "m=LR.coef_\n",
    "c=LR.intercept_\n",
    "\n",
    "\n",
    "fitted_RL=m*X+c"
   ]
  },
  {
   "cell_type": "markdown",
   "id": "03137fe5",
   "metadata": {},
   "source": [
    "**VISUALIZING MODEL**"
   ]
  },
  {
   "cell_type": "code",
   "execution_count": 13,
   "id": "00719275",
   "metadata": {},
   "outputs": [
    {
     "data": {
      "image/png": "[encoded data removed]",
      "text/plain": [
       "<Figure size 432x288 with 1 Axes>"
      ]
     },
     "metadata": {
      "needs_background": "light"
     },
     "output_type": "display_data"
    }
   ],
   "source": [
    "#plotting regression line on training set\n",
    "\n",
    "plt.scatter(X_train,Y_train,color=\"Red\" , label = \"Scores\", )\n",
    "plt.title(\"Plot of fitted Regression Line \\n (No. of hours of study Vs Score Obtained)\")\n",
    "plt.xlabel(\"No. of hours\")\n",
    "plt.ylabel(\"Percentage Obtained\")\n",
    "plt.plot(X, fitted_RL, color=\"Blue\", label=\"fitted regression line\")\n",
    "plt.grid(True)\n",
    "plt.legend()\n",
    "plt.show()"
   ]
  },
  {
   "cell_type": "code",
   "execution_count": 14,
   "id": "2a10ab2b",
   "metadata": {},
   "outputs": [
    {
     "data": {
      "image/png": "[encoded data removed]",
      "text/plain": [
       "<Figure size 432x288 with 1 Axes>"
      ]
     },
     "metadata": {
      "needs_background": "light"
     },
     "output_type": "display_data"
    }
   ],
   "source": [
    "#plotting regression line on test data\n",
    "\n",
    "plt.scatter(X_test,Y_test,color=\"Red\" , label = \"Scores\", )\n",
    "plt.title(\"Plot of fitted Regression Line \\n (No. of hours of study Vs Score Obtained)\")\n",
    "plt.xlabel(\"No. of hours\")\n",
    "plt.ylabel(\"Percentage Obtained\")\n",
    "plt.plot(X, fitted_RL, color=\"Blue\", label=\"fitted regression line\")\n",
    "plt.grid(True)\n",
    "plt.legend()\n",
    "plt.show()"
   ]
  },
  {
   "cell_type": "markdown",
   "id": "b4cb0ad1",
   "metadata": {},
   "source": [
    "**MAKING PREDICTIONS**"
   ]
  },
  {
   "cell_type": "code",
   "execution_count": 15,
   "id": "b82efc0a",
   "metadata": {},
   "outputs": [],
   "source": [
    "Y_predicted=Regression_model.predict(X_test)"
   ]
  },
  {
   "cell_type": "markdown",
   "id": "d0421362",
   "metadata": {},
   "source": [
    "**Computing actual and predicted scores**"
   ]
  },
  {
   "cell_type": "code",
   "execution_count": 16,
   "id": "7400c29a",
   "metadata": {},
   "outputs": [
    {
     "data": {
      "text/html": [
       "<div>\n",
       "<style scoped>\n",
       "    .dataframe tbody tr th:only-of-type {\n",
       "        vertical-align: middle;\n",
       "    }\n",
       "\n",
       "    .dataframe tbody tr th {\n",
       "        vertical-align: top;\n",
       "    }\n",
       "\n",
       "    .dataframe thead th {\n",
       "        text-align: right;\n",
       "    }\n",
       "</style>\n",
       "<table border=\"1\" class=\"dataframe\">\n",
       "  <thead>\n",
       "    <tr style=\"text-align: right;\">\n",
       "      <th></th>\n",
       "      <th>Actual</th>\n",
       "      <th>Predicted</th>\n",
       "    </tr>\n",
       "  </thead>\n",
       "  <tbody>\n",
       "    <tr>\n",
       "      <th>0</th>\n",
       "      <td>20</td>\n",
       "      <td>16.884145</td>\n",
       "    </tr>\n",
       "    <tr>\n",
       "      <th>1</th>\n",
       "      <td>27</td>\n",
       "      <td>33.732261</td>\n",
       "    </tr>\n",
       "    <tr>\n",
       "      <th>2</th>\n",
       "      <td>69</td>\n",
       "      <td>75.357018</td>\n",
       "    </tr>\n",
       "    <tr>\n",
       "      <th>3</th>\n",
       "      <td>30</td>\n",
       "      <td>26.794801</td>\n",
       "    </tr>\n",
       "    <tr>\n",
       "      <th>4</th>\n",
       "      <td>62</td>\n",
       "      <td>60.491033</td>\n",
       "    </tr>\n",
       "  </tbody>\n",
       "</table>\n",
       "</div>"
      ],
      "text/plain": [
       "   Actual  Predicted\n",
       "0      20  16.884145\n",
       "1      27  33.732261\n",
       "2      69  75.357018\n",
       "3      30  26.794801\n",
       "4      62  60.491033"
      ]
     },
     "execution_count": 16,
     "metadata": {},
     "output_type": "execute_result"
    }
   ],
   "source": [
    "#comparing actual and predicted  scores\n",
    "df1=pd.DataFrame({'Actual':Y_test,'Predicted':Y_predicted})\n",
    "df1"
   ]
  },
  {
   "cell_type": "code",
   "execution_count": 17,
   "id": "55891917",
   "metadata": {},
   "outputs": [
    {
     "data": {
      "image/png": "[encoded data removed]",
      "text/plain": [
       "<Figure size 432x288 with 1 Axes>"
      ]
     },
     "metadata": {
      "needs_background": "light"
     },
     "output_type": "display_data"
    }
   ],
   "source": [
    "#comparison using bar graph\n",
    "df1.plot(kind=\"bar\", color=('y','g'))\n",
    "plt.xlabel('No. of hours studied')\n",
    "plt.ylabel('Percentage obtained')\n",
    "plt.title(\"Actual v/s predicted\")\n",
    "plt.show()"
   ]
  },
  {
   "cell_type": "markdown",
   "id": "ecb04370",
   "metadata": {},
   "source": [
    "**TESTING THE MODEL ACCURACY**"
   ]
  },
  {
   "cell_type": "markdown",
   "id": "65a2da0a",
   "metadata": {},
   "source": [
    "Now we will check the R squared value to check accuracy of model"
   ]
  },
  {
   "cell_type": "code",
   "execution_count": 18,
   "id": "d131382f",
   "metadata": {},
   "outputs": [
    {
     "name": "stdout",
     "output_type": "stream",
     "text": [
      "R squared value :: 0.9454906872389663\n"
     ]
    }
   ],
   "source": [
    "#Checking R squared value\n",
    "Y_true=[20,27,69,30,62]\n",
    "Y_predicted=[16.884145,33.732261,75.357018,26.794801,60.491033]\n",
    "r=r2_score(Y_true,Y_predicted)\n",
    "print(\"R squared value ::\", r)\n"
   ]
  },
  {
   "cell_type": "code",
   "execution_count": 19,
   "id": "12aa6255",
   "metadata": {},
   "outputs": [
    {
     "name": "stdout",
     "output_type": "stream",
     "text": [
      "Root mean squared value :: 0.0\n"
     ]
    }
   ],
   "source": [
    "import math\n",
    "from sklearn.metrics import mean_squared_error\n",
    "\n",
    "Y_true=[20,27,69,30,62]\n",
    "Y_predicted=[16.884145,33.732261,75.357018,26.794801,60.491033]\n",
    "rmse=math.sqrt(mean_squared_error(Y_true,Y_true))\n",
    "print(\"Root mean squared value ::\", rmse)\n"
   ]
  },
  {
   "cell_type": "markdown",
   "id": "47abe8e6",
   "metadata": {},
   "source": [
    "Thus we get R Squared value= 0.94 and root mean squared error as 0. **This means 94.54% variation in dependent variable can be explained by this model i.e. Accuracy of the model= 94.54%**"
   ]
  },
  {
   "cell_type": "markdown",
   "id": "0f6a4711",
   "metadata": {},
   "source": [
    "**TESTING MODEL USING OWN DATA**"
   ]
  },
  {
   "cell_type": "markdown",
   "id": "188372f5",
   "metadata": {},
   "source": [
    "**TASK-  Suppose, if student studies for 9.25hrs per day then what will be the percentage of that student?**"
   ]
  },
  {
   "cell_type": "code",
   "execution_count": 20,
   "id": "36d28ac0",
   "metadata": {},
   "outputs": [
    {
     "name": "stdout",
     "output_type": "stream",
     "text": [
      "No of hrs studied: 9.25\n",
      "Predicted Percentage: 93.69173248737538\n"
     ]
    }
   ],
   "source": [
    "no_of_hrs=9.25 #per day\n",
    "pred_score=Regression_model.predict([[no_of_hrs]])\n",
    "print(\"No of hrs studied:\",no_of_hrs)\n",
    "print(\"Predicted Percentage:\",pred_score[0])"
   ]
  },
  {
   "cell_type": "markdown",
   "id": "68c5a299",
   "metadata": {},
   "source": [
    "**EVALUATING THE MODEL**"
   ]
  },
  {
   "cell_type": "markdown",
   "id": "3b929195",
   "metadata": {},
   "source": [
    "The final step is to evaluate the performance of algorithm. This step is particularly important to compare how well different algorithms perform on a particular dataset."
   ]
  },
  {
   "cell_type": "code",
   "execution_count": 21,
   "id": "62b25b86",
   "metadata": {},
   "outputs": [
    {
     "name": "stdout",
     "output_type": "stream",
     "text": [
      "Mean Absolute Error: 4.183859999999999\n"
     ]
    }
   ],
   "source": [
    "print('Mean Absolute Error:', metrics.mean_absolute_error(Y_test, Y_predicted))\n"
   ]
  },
  {
   "cell_type": "markdown",
   "id": "ed2b6cbe",
   "metadata": {},
   "source": [
    "If **Mean absolute error <10** the that **model is considered as best fit.**\n"
   ]
  },
  {
   "cell_type": "markdown",
   "id": "f79e26a8",
   "metadata": {},
   "source": [
    "**CONCLUSION**"
   ]
  },
  {
   "cell_type": "markdown",
   "id": "ce486b60",
   "metadata": {},
   "source": [
    "1. We fitted **a linear regression model** on data set with **No.of hours of study of student as dependent variable and \n",
    "percentage obtained as independent variable.**\n",
    "\n",
    "2. **The model accuracy is 94.54% an it is a best fit model.**\n",
    "\n",
    "3. Using this model we predicted that **if a student studies for 9.25 hrs per day his percentage score wiil be 93.69%.**\n"
   ]
  },
  {
   "cell_type": "markdown",
   "id": "6226d6c5",
   "metadata": {},
   "source": [
    "# THANK YOU !!"
   ]
  }
 ],
 "metadata": {
  "kernelspec": {
   "display_name": "Python 3 (ipykernel)",
   "language": "python",
   "name": "python3"
  },
  "language_info": {
   "codemirror_mode": {
    "name": "ipython",
    "version": 3
   },
   "file_extension": ".py",
   "mimetype": "text/x-python",
   "name": "python",
   "nbconvert_exporter": "python",
   "pygments_lexer": "ipython3",
   "version": "3.9.7"
  }
 },
 "nbformat": 4,
 "nbformat_minor": 5
}
